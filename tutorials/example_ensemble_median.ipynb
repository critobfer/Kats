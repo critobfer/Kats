{
 "cells": [
  {
   "cell_type": "markdown",
   "metadata": {},
   "source": [
    "# Prepare the libraries"
   ]
  },
  {
   "cell_type": "code",
   "execution_count": 1,
   "metadata": {},
   "outputs": [
    {
     "name": "stderr",
     "output_type": "stream",
     "text": [
      "WARNING:root:numba is not installed. jit compilation of tsfeatures is disabled\n",
      "WARNING:root:kats.models.globalmodel requires torch\n",
      "WARNING:root:kats.detectors.prophet_detector is not available (requires Prophet)\n"
     ]
    }
   ],
   "source": [
    "import pandas as pd\n",
    "import numpy as np\n",
    "import sys\n",
    "import matplotlib.pyplot as plt\n",
    "import warnings\n",
    "\n",
    "warnings.simplefilter(action='ignore')\n",
    "sys.path.append(\"../\")\n",
    "\n",
    "from kats.consts import TimeSeriesData\n",
    "\n",
    "try: # If running on Jupyter\n",
    "    air_passengers_df = pd.read_csv(\"../kats/data/air_passengers.csv\")\n",
    "except FileNotFoundError: # If running on colab\n",
    "    air_passengers_df = pd.read_csv(\"air_passengers.csv\")\n",
    "\n",
    "# Note: If the column holding the time values is not called time, you will want to specify the name of this column.\n",
    "air_passengers_df.columns = [\"time\", \"value\"]\n",
    "air_passengers_ts = TimeSeriesData(air_passengers_df)"
   ]
  },
  {
   "attachments": {},
   "cell_type": "markdown",
   "metadata": {},
   "source": [
    "first we are going to do simple forecasting and save the values. Later we are going to do ensemble forecasting.\n",
    "We see that the median used to get ensemble_mean are the python function, so we proof its behavior."
   ]
  },
  {
   "cell_type": "code",
   "execution_count": 6,
   "metadata": {},
   "outputs": [
    {
     "name": "stdout",
     "output_type": "stream",
     "text": [
      "7\n",
      "7.0\n",
      "6.5\n"
     ]
    }
   ],
   "source": [
    "import statistics\n",
    "print(statistics.median([1, 3, 5, 7, 9, 11, 13]))\n",
    "\n",
    "print(statistics.median([1, 3, 5, 9, 11, 13]))  # Te hace la media de los dos de enmedio\n",
    "print(statistics.median([0, 1, 4, 9, 11, 13])) "
   ]
  }
 ],
 "metadata": {
  "kernelspec": {
   "display_name": ".kats_env",
   "language": "python",
   "name": "python3"
  },
  "language_info": {
   "codemirror_mode": {
    "name": "ipython",
    "version": 3
   },
   "file_extension": ".py",
   "mimetype": "text/x-python",
   "name": "python",
   "nbconvert_exporter": "python",
   "pygments_lexer": "ipython3",
   "version": "3.9.7"
  },
  "orig_nbformat": 4,
  "vscode": {
   "interpreter": {
    "hash": "f6315cf897d7c8dd7d5d18d326a1a39a186c1f2462559e83a852e93ff447771c"
   }
  }
 },
 "nbformat": 4,
 "nbformat_minor": 2
}
